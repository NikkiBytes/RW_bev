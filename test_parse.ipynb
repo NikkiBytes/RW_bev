{
 "cells": [
  {
   "cell_type": "code",
   "execution_count": 1,
   "metadata": {},
   "outputs": [],
   "source": [
    "import pandas as pd"
   ]
  },
  {
   "cell_type": "code",
   "execution_count": 2,
   "metadata": {},
   "outputs": [],
   "source": [
    "df = pd.read_csv('/Users/nikkibytes/Documents/RW_bevel/test_logs/beveltest_bevel01_2018-03-19-17_13_06_subdata.log', engine='python', sep='\\\\t')"
   ]
  },
  {
   "cell_type": "code",
   "execution_count": 3,
   "metadata": {},
   "outputs": [],
   "source": [
    "df.columns=['onset', 'img', 'keypress']\n",
    "df=df.drop( columns=['keypress', 'onset'])\n",
    "main_dict={}"
   ]
  },
  {
   "cell_type": "code",
   "execution_count": 4,
   "metadata": {},
   "outputs": [],
   "source": [
    "# Here we are initializing the dictionary\n",
    "# When this method is called a \"count\" variable is passed\n",
    "# This becomes the key to the trials, and an empty dictionary\n",
    "# is filled in for the corresponding value\n",
    "def make_dict(count):\n",
    "    \n",
    "   # print(\"MAKING DICT\")\n",
    "    main_dict[count] = {\n",
    "        'RESPONSE1' : None,\n",
    "        'RESPONSE2' : None,\n",
    "        'POSITION1' : None,\n",
    "        'POSITION2' : None,\n",
    "        'KEYPRESS'  : None,\n",
    "        'TIME'      : None \n",
    "    }\n",
    "\n",
    "            "
   ]
  },
  {
   "cell_type": "code",
   "execution_count": 5,
   "metadata": {
    "scrolled": false
   },
   "outputs": [
    {
     "name": "stdout",
     "output_type": "stream",
     "text": [
      "{'RESPONSE1': 'f', 'RESPONSE2': 'a', 'POSITION1': 'left', 'POSITION2': 'right', 'KEYPRESS': 'left', 'TIME': '1.988080'}\n"
     ]
    }
   ],
   "source": [
    "#df.head()\n",
    "\n",
    "# Here we grab a dataframe we call 'img', this contains the \n",
    "# relavant column of our data we grabbed from the original df\n",
    "img = df[df['img'].str.contains(\"=|Missed\")]\n",
    "\n",
    "# this counter is used to count the number of trials we have\n",
    "# and it is used for our dictionary key\n",
    "count=0\n",
    "\n",
    "# we start a loop iterating through the rows\n",
    "# and parse out our relevant info \n",
    "for row in img['img']:\n",
    "   \n",
    "    #check for the row w/ image (letters), and position\n",
    "    # this conditional statement also iterates our \"count\" variable\n",
    "    # and initializes a new dictionary key \n",
    "    if 'jpg' in row:\n",
    "        #print(row)\n",
    "        count=count+1\n",
    "        ct = str(count)\n",
    "        make_dict(ct)\n",
    "        \n",
    "        \n",
    "        response1 = row.split(\" \")[1].split(\".\")[0]\n",
    "        position1 = row.split(\" \")[3].split(\"=\")[1]\n",
    "    #    print(\"Response1: \", response1)\n",
    "     #   print(\"Position1: \", position1)\n",
    "        response2 = row.split(\" \")[5].split(\".\")[0]\n",
    "        position2 = row.split(\" \")[7].split(\"=\")[1]\n",
    "     #   print(\"Response2: \", response2)\n",
    "      #  print(\"Position2: \", position2)\n",
    "        \n",
    "        #print(count)\n",
    "        main_dict[ct][\"RESPONSE1\"] = response1\n",
    "        main_dict[ct][\"RESPONSE2\"] = response2\n",
    "        main_dict[ct][\"POSITION1\"] = position1\n",
    "        main_dict[ct][\"POSITION2\"] = position2        \n",
    "    \n",
    "    # check for row with keypress and the time     \n",
    "    if \"time\" in row:\n",
    "        #print(row)\n",
    "        keypress=row.split(\" \")[1].split(\"=\")[1]\n",
    "    #    print(keypress)\n",
    "        time=row.split(\" \")[4]\n",
    "        main_dict[ct][\"KEYPRESS\"] = keypress\n",
    "        main_dict[ct][\"TIME\"] = time \n",
    "        \n",
    "     # check for row with a MISSED signal    \n",
    "    if \"Missed\" in row: \n",
    "        keypress=\"Missed\"\n",
    "        main_dict[ct][\"KEYPRESS\"] = keypress\n",
    "        main_dict[ct][\"TIME\"] = \"N/A\"\n",
    "print(main_dict['2'])\n"
   ]
  },
  {
   "cell_type": "code",
   "execution_count": null,
   "metadata": {},
   "outputs": [],
   "source": []
  }
 ],
 "metadata": {
  "kernelspec": {
   "display_name": "Python 3",
   "language": "python",
   "name": "python3"
  },
  "language_info": {
   "codemirror_mode": {
    "name": "ipython",
    "version": 3
   },
   "file_extension": ".py",
   "mimetype": "text/x-python",
   "name": "python",
   "nbconvert_exporter": "python",
   "pygments_lexer": "ipython3",
   "version": "3.6.5"
  }
 },
 "nbformat": 4,
 "nbformat_minor": 2
}

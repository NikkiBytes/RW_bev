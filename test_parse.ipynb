{
 "cells": [
  {
   "cell_type": "code",
   "execution_count": 2,
   "metadata": {},
   "outputs": [],
   "source": [
    "import pandas as pd"
   ]
  },
  {
   "cell_type": "code",
   "execution_count": 73,
   "metadata": {},
   "outputs": [],
   "source": [
    "df = pd.read_csv('/Users/nikkibytes/Documents/RW_bevel/test_logs/beveltest_bevel01_2018-03-19-17_13_06_subdata.log', engine='python', sep='\\\\t')"
   ]
  },
  {
   "cell_type": "code",
   "execution_count": 74,
   "metadata": {},
   "outputs": [],
   "source": [
    "df.columns=['onset', 'img', 'keypress']\n",
    "df=df.drop( columns=['keypress', 'onset'])\n",
    "main_dict={}"
   ]
  },
  {
   "cell_type": "code",
   "execution_count": 75,
   "metadata": {},
   "outputs": [],
   "source": [
    "def make_dict(count):\n",
    "    \n",
    "   # print(\"MAKING DICT\")\n",
    "    main_dict[count] = {\n",
    "        'RESPONSE1' : None,\n",
    "        'RESPONSE2' : None,\n",
    "        'POSITION1' : None,\n",
    "        'POSITION2' : None,\n",
    "        'KEYPRESS'  : None,\n",
    "        'TIME'      : None \n",
    "    }\n",
    "\n",
    "            "
   ]
  },
  {
   "cell_type": "code",
   "execution_count": 81,
   "metadata": {
    "scrolled": true
   },
   "outputs": [
    {
     "name": "stdout",
     "output_type": "stream",
     "text": [
      "{'1': {'RESPONSE1': 'b', 'RESPONSE2': 'e', 'POSITION1': 'left', 'POSITION2': 'right', 'KEYPRESS': 'Missed', 'TIME': 'N/A'}, '2': {'RESPONSE1': 'f', 'RESPONSE2': 'a', 'POSITION1': 'left', 'POSITION2': 'right', 'KEYPRESS': 'left', 'TIME': '1.988080'}, '3': {'RESPONSE1': 'e', 'RESPONSE2': 'a', 'POSITION1': 'left', 'POSITION2': 'right', 'KEYPRESS': 'right', 'TIME': '1.987296'}, '4': {'RESPONSE1': 'b', 'RESPONSE2': 'e', 'POSITION1': 'right', 'POSITION2': 'left', 'KEYPRESS': 'left', 'TIME': '1.987544'}, '5': {'RESPONSE1': 'a', 'RESPONSE2': 'd', 'POSITION1': 'left', 'POSITION2': 'right', 'KEYPRESS': 'right', 'TIME': '1.986512'}, '6': {'RESPONSE1': 'a', 'RESPONSE2': 'd', 'POSITION1': 'left', 'POSITION2': 'right', 'KEYPRESS': 'left', 'TIME': '1.986747'}, '7': {'RESPONSE1': 'f', 'RESPONSE2': 'b', 'POSITION1': 'left', 'POSITION2': 'right', 'KEYPRESS': 'left', 'TIME': '1.985803'}, '8': {'RESPONSE1': 'e', 'RESPONSE2': 'a', 'POSITION1': 'right', 'POSITION2': 'left', 'KEYPRESS': 'right', 'TIME': '1.985855'}, '9': {'RESPONSE1': 'b', 'RESPONSE2': 'f', 'POSITION1': 'right', 'POSITION2': 'left', 'KEYPRESS': 'left', 'TIME': '1.985057'}, '10': {'RESPONSE1': 'f', 'RESPONSE2': 'a', 'POSITION1': 'right', 'POSITION2': 'left', 'KEYPRESS': 'right', 'TIME': '1.985174'}, '11': {'RESPONSE1': 'f', 'RESPONSE2': 'a', 'POSITION1': 'right', 'POSITION2': 'left', 'KEYPRESS': 'left', 'TIME': '1.984707'}, '12': {'RESPONSE1': 'b', 'RESPONSE2': 'e', 'POSITION1': 'left', 'POSITION2': 'right', 'KEYPRESS': 'right', 'TIME': '1.984557'}, '13': {'RESPONSE1': 'f', 'RESPONSE2': 'a', 'POSITION1': 'right', 'POSITION2': 'left', 'KEYPRESS': 'right', 'TIME': '1.984201'}, '14': {'RESPONSE1': 'f', 'RESPONSE2': 'b', 'POSITION1': 'left', 'POSITION2': 'right', 'KEYPRESS': 'right', 'TIME': '1.984174'}, '15': {'RESPONSE1': 'a', 'RESPONSE2': 'd', 'POSITION1': 'right', 'POSITION2': 'left', 'KEYPRESS': 'right', 'TIME': '1.983445'}, '16': {'RESPONSE1': 'e', 'RESPONSE2': 'a', 'POSITION1': 'right', 'POSITION2': 'left', 'KEYPRESS': 'right', 'TIME': '1.983357'}, '17': {'RESPONSE1': 'b', 'RESPONSE2': 'e', 'POSITION1': 'right', 'POSITION2': 'left', 'KEYPRESS': 'left', 'TIME': '1.982179'}, '18': {'RESPONSE1': 'd', 'RESPONSE2': 'a', 'POSITION1': 'right', 'POSITION2': 'left', 'KEYPRESS': 'left', 'TIME': '1.982443'}, '19': {'RESPONSE1': 'd', 'RESPONSE2': 'b', 'POSITION1': 'left', 'POSITION2': 'right', 'KEYPRESS': 'right', 'TIME': '1.981609'}, '20': {'RESPONSE1': 'a', 'RESPONSE2': 'e', 'POSITION1': 'left', 'POSITION2': 'right', 'KEYPRESS': 'left', 'TIME': '1.131632'}, '21': {'RESPONSE1': 'a', 'RESPONSE2': 'c', 'POSITION1': 'right', 'POSITION2': 'left', 'KEYPRESS': 'right', 'TIME': '1.981699'}, '22': {'RESPONSE1': 'c', 'RESPONSE2': 'b', 'POSITION1': 'right', 'POSITION2': 'left', 'KEYPRESS': 'left', 'TIME': '1.981167'}, '23': {'RESPONSE1': 'a', 'RESPONSE2': 'c', 'POSITION1': 'left', 'POSITION2': 'right', 'KEYPRESS': 'left', 'TIME': '1.980757'}, '24': {'RESPONSE1': 'a', 'RESPONSE2': 'e', 'POSITION1': 'right', 'POSITION2': 'left', 'KEYPRESS': 'right', 'TIME': '1.980754'}, '25': {'RESPONSE1': 'a', 'RESPONSE2': 'd', 'POSITION1': 'left', 'POSITION2': 'right', 'KEYPRESS': 'right', 'TIME': '1.980135'}, '26': {'RESPONSE1': 'a', 'RESPONSE2': 'd', 'POSITION1': 'right', 'POSITION2': 'left', 'KEYPRESS': 'right', 'TIME': '1.979477'}, '27': {'RESPONSE1': 'b', 'RESPONSE2': 'd', 'POSITION1': 'left', 'POSITION2': 'right', 'KEYPRESS': 'left', 'TIME': '1.979979'}, '28': {'RESPONSE1': 'e', 'RESPONSE2': 'a', 'POSITION1': 'right', 'POSITION2': 'left', 'KEYPRESS': 'right', 'TIME': '1.978858'}, '29': {'RESPONSE1': 'b', 'RESPONSE2': 'd', 'POSITION1': 'left', 'POSITION2': 'right', 'KEYPRESS': 'right', 'TIME': '1.978965'}, '30': {'RESPONSE1': 'a', 'RESPONSE2': 'e', 'POSITION1': 'left', 'POSITION2': 'right', 'KEYPRESS': 'left', 'TIME': '1.978887'}, '31': {'RESPONSE1': 'd', 'RESPONSE2': 'a', 'POSITION1': 'left', 'POSITION2': 'right', 'KEYPRESS': 'right', 'TIME': '1.978275'}, '32': {'RESPONSE1': 'd', 'RESPONSE2': 'b', 'POSITION1': 'left', 'POSITION2': 'right', 'KEYPRESS': 'right', 'TIME': '1.977991'}, '33': {'RESPONSE1': 'b', 'RESPONSE2': 'e', 'POSITION1': 'left', 'POSITION2': 'right', 'KEYPRESS': 'right', 'TIME': '1.977432'}, '34': {'RESPONSE1': 'e', 'RESPONSE2': 'a', 'POSITION1': 'left', 'POSITION2': 'right', 'KEYPRESS': 'left', 'TIME': '1.977164'}, '35': {'RESPONSE1': 'e', 'RESPONSE2': 'a', 'POSITION1': 'left', 'POSITION2': 'right', 'KEYPRESS': 'right', 'TIME': '1.977079'}, '36': {'RESPONSE1': 'f', 'RESPONSE2': 'b', 'POSITION1': 'right', 'POSITION2': 'left', 'KEYPRESS': 'left', 'TIME': '1.976497'}, '37': {'RESPONSE1': 'e', 'RESPONSE2': 'b', 'POSITION1': 'left', 'POSITION2': 'right', 'KEYPRESS': 'right', 'TIME': '1.976205'}, '38': {'RESPONSE1': 'b', 'RESPONSE2': 'c', 'POSITION1': 'left', 'POSITION2': 'right', 'KEYPRESS': 'right', 'TIME': '1.976140'}, '39': {'RESPONSE1': 'a', 'RESPONSE2': 'c', 'POSITION1': 'right', 'POSITION2': 'left', 'KEYPRESS': 'left', 'TIME': '1.992166'}, '40': {'RESPONSE1': 'b', 'RESPONSE2': 'f', 'POSITION1': 'right', 'POSITION2': 'left', 'KEYPRESS': 'right', 'TIME': '1.991898'}, '41': {'RESPONSE1': 'f', 'RESPONSE2': 'a', 'POSITION1': 'left', 'POSITION2': 'right', 'KEYPRESS': 'left', 'TIME': '1.991276'}, '42': {'RESPONSE1': 'f', 'RESPONSE2': 'b', 'POSITION1': 'right', 'POSITION2': 'left', 'KEYPRESS': 'left', 'TIME': '1.990583'}, '43': {'RESPONSE1': 'a', 'RESPONSE2': 'c', 'POSITION1': 'left', 'POSITION2': 'right', 'KEYPRESS': 'right', 'TIME': '1.990450'}, '44': {'RESPONSE1': 'd', 'RESPONSE2': 'a', 'POSITION1': 'right', 'POSITION2': 'left', 'KEYPRESS': 'left', 'TIME': '1.989813'}, '45': {'RESPONSE1': 'b', 'RESPONSE2': 'c', 'POSITION1': 'right', 'POSITION2': 'left', 'KEYPRESS': 'right', 'TIME': '1.989604'}, '46': {'RESPONSE1': 'b', 'RESPONSE2': 'f', 'POSITION1': 'right', 'POSITION2': 'left', 'KEYPRESS': 'Missed', 'TIME': 'N/A'}, '47': {'RESPONSE1': 'f', 'RESPONSE2': 'a', 'POSITION1': 'left', 'POSITION2': 'right', 'KEYPRESS': 'Missed', 'TIME': 'N/A'}, '48': {'RESPONSE1': 'f', 'RESPONSE2': 'b', 'POSITION1': 'left', 'POSITION2': 'right', 'KEYPRESS': 'right', 'TIME': '1.989329'}}\n"
     ]
    }
   ],
   "source": [
    "df.head()\n",
    "\n",
    "img = df[df['img'].str.contains(\"=|Missed\")]\n",
    "\n",
    "count=0\n",
    "for row in img['img']:\n",
    "   \n",
    "    if 'jpg' in row:\n",
    "        #print(row)\n",
    "        count=count+1\n",
    "        ct = str(count)\n",
    "        make_dict(ct)\n",
    "        \n",
    "        \n",
    "        response1 = row.split(\" \")[1].split(\".\")[0]\n",
    "        position1 = row.split(\" \")[3].split(\"=\")[1]\n",
    "    #    print(\"Response1: \", response1)\n",
    "     #   print(\"Position1: \", position1)\n",
    "        response2 = row.split(\" \")[5].split(\".\")[0]\n",
    "        position2 = row.split(\" \")[7].split(\"=\")[1]\n",
    "     #   print(\"Response2: \", response2)\n",
    "      #  print(\"Position2: \", position2)\n",
    "        \n",
    "        #print(count)\n",
    "        main_dict[ct][\"RESPONSE1\"] = response1\n",
    "        main_dict[ct][\"RESPONSE2\"] = response2\n",
    "        main_dict[ct][\"POSITION1\"] = position1\n",
    "        main_dict[ct][\"POSITION2\"] = position2        \n",
    "    \n",
    "        \n",
    "    if \"time\" in row:\n",
    "        #print(row)\n",
    "        keypress=row.split(\" \")[1].split(\"=\")[1]\n",
    "    #    print(keypress)\n",
    "        time=row.split(\" \")[4]\n",
    "        main_dict[ct][\"KEYPRESS\"] = keypress\n",
    "        main_dict[ct][\"TIME\"] = time \n",
    "    if \"Missed\" in row: \n",
    "        keypress=\"Missed\"\n",
    "        main_dict[ct][\"KEYPRESS\"] = keypress\n",
    "        main_dict[ct][\"TIME\"] = \"N/A\"\n",
    "print(main_dict)\n"
   ]
  },
  {
   "cell_type": "code",
   "execution_count": null,
   "metadata": {},
   "outputs": [],
   "source": []
  }
 ],
 "metadata": {
  "kernelspec": {
   "display_name": "Python 3",
   "language": "python",
   "name": "python3"
  },
  "language_info": {
   "codemirror_mode": {
    "name": "ipython",
    "version": 3
   },
   "file_extension": ".py",
   "mimetype": "text/x-python",
   "name": "python",
   "nbconvert_exporter": "python",
   "pygments_lexer": "ipython3",
   "version": "3.6.5"
  }
 },
 "nbformat": 4,
 "nbformat_minor": 2
}
